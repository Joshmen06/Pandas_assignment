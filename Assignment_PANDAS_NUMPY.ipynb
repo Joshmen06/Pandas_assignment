{
  "nbformat": 4,
  "nbformat_minor": 0,
  "metadata": {
    "colab": {
      "name": "Assignment_PANDAS_NUMPY.ipynb",
      "provenance": [],
      "collapsed_sections": []
    },
    "kernelspec": {
      "name": "python3",
      "display_name": "Python 3"
    },
    "language_info": {
      "name": "python"
    }
  },
  "cells": [
    {
      "cell_type": "markdown",
      "source": [
        "1) Generate an array of zeroes using inbuilt numpy function."
      ],
      "metadata": {
        "id": "6KbcPjfIBAao"
      }
    },
    {
      "cell_type": "code",
      "execution_count": 2,
      "metadata": {
        "id": "G1rwkYaw-MmS"
      },
      "outputs": [],
      "source": [
        "import numpy as np\n"
      ]
    },
    {
      "cell_type": "code",
      "source": [
        "np.zeros(shape=(3,3))"
      ],
      "metadata": {
        "colab": {
          "base_uri": "https://localhost:8080/"
        },
        "id": "fSIk4SiZBZyU",
        "outputId": "cc5cb5dc-6957-4a42-b63a-efb25d54ed7f"
      },
      "execution_count": 5,
      "outputs": [
        {
          "output_type": "execute_result",
          "data": {
            "text/plain": [
              "array([[0., 0., 0.],\n",
              "       [0., 0., 0.],\n",
              "       [0., 0., 0.]])"
            ]
          },
          "metadata": {},
          "execution_count": 5
        }
      ]
    },
    {
      "cell_type": "markdown",
      "source": [
        "2) Run the given code and find the dot product of both arrays."
      ],
      "metadata": {
        "id": "hc7nrUmkB72m"
      }
    },
    {
      "cell_type": "code",
      "source": [
        "a=np.random.randint(2,10,(3,4))\n",
        "b=np.random.randint(2,10,(4,3))\n",
        "print(a)\n",
        "print(b)"
      ],
      "metadata": {
        "colab": {
          "base_uri": "https://localhost:8080/"
        },
        "id": "YLUm1KgnCDBJ",
        "outputId": "f3f274ac-4738-4fca-b53b-982794cf4433"
      },
      "execution_count": 6,
      "outputs": [
        {
          "output_type": "stream",
          "name": "stdout",
          "text": [
            "[[5 8 3 7]\n",
            " [4 7 2 5]\n",
            " [4 2 3 4]]\n",
            "[[8 5 3]\n",
            " [8 8 9]\n",
            " [7 6 6]\n",
            " [3 7 4]]\n"
          ]
        }
      ]
    },
    {
      "cell_type": "code",
      "source": [
        "a.dot(b)"
      ],
      "metadata": {
        "colab": {
          "base_uri": "https://localhost:8080/"
        },
        "id": "iUnAGNxdDIb8",
        "outputId": "15ad7db0-96c7-4634-82ab-dfd916429f41"
      },
      "execution_count": 8,
      "outputs": [
        {
          "output_type": "execute_result",
          "data": {
            "text/plain": [
              "array([[146, 156, 133],\n",
              "       [117, 123, 107],\n",
              "       [ 81,  82,  64]])"
            ]
          },
          "metadata": {},
          "execution_count": 8
        }
      ]
    },
    {
      "cell_type": "code",
      "source": [
        "np.dot(a,b)"
      ],
      "metadata": {
        "colab": {
          "base_uri": "https://localhost:8080/"
        },
        "id": "muBmdhnzC1gj",
        "outputId": "6a877b22-f58b-4554-c9f1-6816c01ad402"
      },
      "execution_count": 7,
      "outputs": [
        {
          "output_type": "execute_result",
          "data": {
            "text/plain": [
              "array([[146, 156, 133],\n",
              "       [117, 123, 107],\n",
              "       [ 81,  82,  64]])"
            ]
          },
          "metadata": {},
          "execution_count": 7
        }
      ]
    },
    {
      "cell_type": "markdown",
      "source": [
        "3)Read the csv file provided using pandas and display the first 5 entries"
      ],
      "metadata": {
        "id": "p2CW_WJqDSbq"
      }
    },
    {
      "cell_type": "code",
      "source": [
        "import pandas as pd"
      ],
      "metadata": {
        "id": "gq9KufoeDXp2"
      },
      "execution_count": 9,
      "outputs": []
    },
    {
      "cell_type": "code",
      "source": [
        "data=pd.read_csv('data.csv')\n",
        "data.head()"
      ],
      "metadata": {
        "colab": {
          "base_uri": "https://localhost:8080/",
          "height": 267
        },
        "id": "LdhWP6XaDryt",
        "outputId": "b10a6cd6-a541-4395-a09d-5ed6cfcb6e34"
      },
      "execution_count": 10,
      "outputs": [
        {
          "output_type": "execute_result",
          "data": {
            "text/html": [
              "\n",
              "  <div id=\"df-0aeab0fb-e3ac-4ff5-a6cb-2e33957a6769\">\n",
              "    <div class=\"colab-df-container\">\n",
              "      <div>\n",
              "<style scoped>\n",
              "    .dataframe tbody tr th:only-of-type {\n",
              "        vertical-align: middle;\n",
              "    }\n",
              "\n",
              "    .dataframe tbody tr th {\n",
              "        vertical-align: top;\n",
              "    }\n",
              "\n",
              "    .dataframe thead th {\n",
              "        text-align: right;\n",
              "    }\n",
              "</style>\n",
              "<table border=\"1\" class=\"dataframe\">\n",
              "  <thead>\n",
              "    <tr style=\"text-align: right;\">\n",
              "      <th></th>\n",
              "      <th>OBJECTID</th>\n",
              "      <th>UNIT_NAME</th>\n",
              "      <th>DESCRIPTION</th>\n",
              "      <th>ACRES</th>\n",
              "      <th>SHAPE.AREA</th>\n",
              "      <th>SHAPE.LEN</th>\n",
              "    </tr>\n",
              "  </thead>\n",
              "  <tbody>\n",
              "    <tr>\n",
              "      <th>0</th>\n",
              "      <td>21</td>\n",
              "      <td>Fort Stevenson State Park</td>\n",
              "      <td>State Park</td>\n",
              "      <td>586.48</td>\n",
              "      <td>0.000284</td>\n",
              "      <td>0.135641</td>\n",
              "    </tr>\n",
              "    <tr>\n",
              "      <th>1</th>\n",
              "      <td>22</td>\n",
              "      <td>Beaver Lake State Park</td>\n",
              "      <td>State Park</td>\n",
              "      <td>273.16</td>\n",
              "      <td>0.000129</td>\n",
              "      <td>0.080067</td>\n",
              "    </tr>\n",
              "    <tr>\n",
              "      <th>2</th>\n",
              "      <td>23</td>\n",
              "      <td>Fort Abraham Lincoln State Park</td>\n",
              "      <td>State Park</td>\n",
              "      <td>836.47</td>\n",
              "      <td>0.000399</td>\n",
              "      <td>0.119868</td>\n",
              "    </tr>\n",
              "    <tr>\n",
              "      <th>3</th>\n",
              "      <td>24</td>\n",
              "      <td>Fort Ransom State Park</td>\n",
              "      <td>State Park</td>\n",
              "      <td>933.78</td>\n",
              "      <td>0.000444</td>\n",
              "      <td>0.128733</td>\n",
              "    </tr>\n",
              "    <tr>\n",
              "      <th>4</th>\n",
              "      <td>25</td>\n",
              "      <td>Grahams Island State Park</td>\n",
              "      <td>State Park</td>\n",
              "      <td>959.33</td>\n",
              "      <td>0.000469</td>\n",
              "      <td>0.125546</td>\n",
              "    </tr>\n",
              "  </tbody>\n",
              "</table>\n",
              "</div>\n",
              "      <button class=\"colab-df-convert\" onclick=\"convertToInteractive('df-0aeab0fb-e3ac-4ff5-a6cb-2e33957a6769')\"\n",
              "              title=\"Convert this dataframe to an interactive table.\"\n",
              "              style=\"display:none;\">\n",
              "        \n",
              "  <svg xmlns=\"http://www.w3.org/2000/svg\" height=\"24px\"viewBox=\"0 0 24 24\"\n",
              "       width=\"24px\">\n",
              "    <path d=\"M0 0h24v24H0V0z\" fill=\"none\"/>\n",
              "    <path d=\"M18.56 5.44l.94 2.06.94-2.06 2.06-.94-2.06-.94-.94-2.06-.94 2.06-2.06.94zm-11 1L8.5 8.5l.94-2.06 2.06-.94-2.06-.94L8.5 2.5l-.94 2.06-2.06.94zm10 10l.94 2.06.94-2.06 2.06-.94-2.06-.94-.94-2.06-.94 2.06-2.06.94z\"/><path d=\"M17.41 7.96l-1.37-1.37c-.4-.4-.92-.59-1.43-.59-.52 0-1.04.2-1.43.59L10.3 9.45l-7.72 7.72c-.78.78-.78 2.05 0 2.83L4 21.41c.39.39.9.59 1.41.59.51 0 1.02-.2 1.41-.59l7.78-7.78 2.81-2.81c.8-.78.8-2.07 0-2.86zM5.41 20L4 18.59l7.72-7.72 1.47 1.35L5.41 20z\"/>\n",
              "  </svg>\n",
              "      </button>\n",
              "      \n",
              "  <style>\n",
              "    .colab-df-container {\n",
              "      display:flex;\n",
              "      flex-wrap:wrap;\n",
              "      gap: 12px;\n",
              "    }\n",
              "\n",
              "    .colab-df-convert {\n",
              "      background-color: #E8F0FE;\n",
              "      border: none;\n",
              "      border-radius: 50%;\n",
              "      cursor: pointer;\n",
              "      display: none;\n",
              "      fill: #1967D2;\n",
              "      height: 32px;\n",
              "      padding: 0 0 0 0;\n",
              "      width: 32px;\n",
              "    }\n",
              "\n",
              "    .colab-df-convert:hover {\n",
              "      background-color: #E2EBFA;\n",
              "      box-shadow: 0px 1px 2px rgba(60, 64, 67, 0.3), 0px 1px 3px 1px rgba(60, 64, 67, 0.15);\n",
              "      fill: #174EA6;\n",
              "    }\n",
              "\n",
              "    [theme=dark] .colab-df-convert {\n",
              "      background-color: #3B4455;\n",
              "      fill: #D2E3FC;\n",
              "    }\n",
              "\n",
              "    [theme=dark] .colab-df-convert:hover {\n",
              "      background-color: #434B5C;\n",
              "      box-shadow: 0px 1px 3px 1px rgba(0, 0, 0, 0.15);\n",
              "      filter: drop-shadow(0px 1px 2px rgba(0, 0, 0, 0.3));\n",
              "      fill: #FFFFFF;\n",
              "    }\n",
              "  </style>\n",
              "\n",
              "      <script>\n",
              "        const buttonEl =\n",
              "          document.querySelector('#df-0aeab0fb-e3ac-4ff5-a6cb-2e33957a6769 button.colab-df-convert');\n",
              "        buttonEl.style.display =\n",
              "          google.colab.kernel.accessAllowed ? 'block' : 'none';\n",
              "\n",
              "        async function convertToInteractive(key) {\n",
              "          const element = document.querySelector('#df-0aeab0fb-e3ac-4ff5-a6cb-2e33957a6769');\n",
              "          const dataTable =\n",
              "            await google.colab.kernel.invokeFunction('convertToInteractive',\n",
              "                                                     [key], {});\n",
              "          if (!dataTable) return;\n",
              "\n",
              "          const docLinkHtml = 'Like what you see? Visit the ' +\n",
              "            '<a target=\"_blank\" href=https://colab.research.google.com/notebooks/data_table.ipynb>data table notebook</a>'\n",
              "            + ' to learn more about interactive tables.';\n",
              "          element.innerHTML = '';\n",
              "          dataTable['output_type'] = 'display_data';\n",
              "          await google.colab.output.renderOutput(dataTable, element);\n",
              "          const docLink = document.createElement('div');\n",
              "          docLink.innerHTML = docLinkHtml;\n",
              "          element.appendChild(docLink);\n",
              "        }\n",
              "      </script>\n",
              "    </div>\n",
              "  </div>\n",
              "  "
            ],
            "text/plain": [
              "   OBJECTID                        UNIT_NAME  ... SHAPE.AREA  SHAPE.LEN\n",
              "0        21        Fort Stevenson State Park  ...   0.000284   0.135641\n",
              "1        22           Beaver Lake State Park  ...   0.000129   0.080067\n",
              "2        23  Fort Abraham Lincoln State Park  ...   0.000399   0.119868\n",
              "3        24           Fort Ransom State Park  ...   0.000444   0.128733\n",
              "4        25        Grahams Island State Park  ...   0.000469   0.125546\n",
              "\n",
              "[5 rows x 6 columns]"
            ]
          },
          "metadata": {},
          "execution_count": 10
        }
      ]
    },
    {
      "cell_type": "markdown",
      "source": [
        "4)Describe the data with all features."
      ],
      "metadata": {
        "id": "7xvNCsBvEjCl"
      }
    },
    {
      "cell_type": "code",
      "source": [
        "data.shape"
      ],
      "metadata": {
        "colab": {
          "base_uri": "https://localhost:8080/"
        },
        "id": "xE0rVbedElzX",
        "outputId": "e6e805e8-9015-428b-b3d2-f50ada455603"
      },
      "execution_count": 12,
      "outputs": [
        {
          "output_type": "execute_result",
          "data": {
            "text/plain": [
              "(25, 6)"
            ]
          },
          "metadata": {},
          "execution_count": 12
        }
      ]
    },
    {
      "cell_type": "code",
      "source": [
        "data.describe()"
      ],
      "metadata": {
        "colab": {
          "base_uri": "https://localhost:8080/",
          "height": 300
        },
        "id": "wgpyEy6CEyvo",
        "outputId": "a9115b35-8058-4281-8a26-9090851772df"
      },
      "execution_count": 14,
      "outputs": [
        {
          "output_type": "execute_result",
          "data": {
            "text/html": [
              "\n",
              "  <div id=\"df-d4454da8-5455-471e-9c0a-323efb51871a\">\n",
              "    <div class=\"colab-df-container\">\n",
              "      <div>\n",
              "<style scoped>\n",
              "    .dataframe tbody tr th:only-of-type {\n",
              "        vertical-align: middle;\n",
              "    }\n",
              "\n",
              "    .dataframe tbody tr th {\n",
              "        vertical-align: top;\n",
              "    }\n",
              "\n",
              "    .dataframe thead th {\n",
              "        text-align: right;\n",
              "    }\n",
              "</style>\n",
              "<table border=\"1\" class=\"dataframe\">\n",
              "  <thead>\n",
              "    <tr style=\"text-align: right;\">\n",
              "      <th></th>\n",
              "      <th>OBJECTID</th>\n",
              "      <th>ACRES</th>\n",
              "      <th>SHAPE.AREA</th>\n",
              "      <th>SHAPE.LEN</th>\n",
              "    </tr>\n",
              "  </thead>\n",
              "  <tbody>\n",
              "    <tr>\n",
              "      <th>count</th>\n",
              "      <td>25.000000</td>\n",
              "      <td>25.000000</td>\n",
              "      <td>25.000000</td>\n",
              "      <td>25.000000</td>\n",
              "    </tr>\n",
              "    <tr>\n",
              "      <th>mean</th>\n",
              "      <td>33.000000</td>\n",
              "      <td>724.134400</td>\n",
              "      <td>0.000352</td>\n",
              "      <td>0.109863</td>\n",
              "    </tr>\n",
              "    <tr>\n",
              "      <th>std</th>\n",
              "      <td>7.359801</td>\n",
              "      <td>1275.490247</td>\n",
              "      <td>0.000617</td>\n",
              "      <td>0.089073</td>\n",
              "    </tr>\n",
              "    <tr>\n",
              "      <th>min</th>\n",
              "      <td>21.000000</td>\n",
              "      <td>11.400000</td>\n",
              "      <td>0.000005</td>\n",
              "      <td>0.009396</td>\n",
              "    </tr>\n",
              "    <tr>\n",
              "      <th>25%</th>\n",
              "      <td>27.000000</td>\n",
              "      <td>72.300000</td>\n",
              "      <td>0.000034</td>\n",
              "      <td>0.033885</td>\n",
              "    </tr>\n",
              "    <tr>\n",
              "      <th>50%</th>\n",
              "      <td>33.000000</td>\n",
              "      <td>524.810000</td>\n",
              "      <td>0.000256</td>\n",
              "      <td>0.087192</td>\n",
              "    </tr>\n",
              "    <tr>\n",
              "      <th>75%</th>\n",
              "      <td>39.000000</td>\n",
              "      <td>836.470000</td>\n",
              "      <td>0.000399</td>\n",
              "      <td>0.145220</td>\n",
              "    </tr>\n",
              "    <tr>\n",
              "      <th>max</th>\n",
              "      <td>45.000000</td>\n",
              "      <td>6492.930000</td>\n",
              "      <td>0.003136</td>\n",
              "      <td>0.338800</td>\n",
              "    </tr>\n",
              "  </tbody>\n",
              "</table>\n",
              "</div>\n",
              "      <button class=\"colab-df-convert\" onclick=\"convertToInteractive('df-d4454da8-5455-471e-9c0a-323efb51871a')\"\n",
              "              title=\"Convert this dataframe to an interactive table.\"\n",
              "              style=\"display:none;\">\n",
              "        \n",
              "  <svg xmlns=\"http://www.w3.org/2000/svg\" height=\"24px\"viewBox=\"0 0 24 24\"\n",
              "       width=\"24px\">\n",
              "    <path d=\"M0 0h24v24H0V0z\" fill=\"none\"/>\n",
              "    <path d=\"M18.56 5.44l.94 2.06.94-2.06 2.06-.94-2.06-.94-.94-2.06-.94 2.06-2.06.94zm-11 1L8.5 8.5l.94-2.06 2.06-.94-2.06-.94L8.5 2.5l-.94 2.06-2.06.94zm10 10l.94 2.06.94-2.06 2.06-.94-2.06-.94-.94-2.06-.94 2.06-2.06.94z\"/><path d=\"M17.41 7.96l-1.37-1.37c-.4-.4-.92-.59-1.43-.59-.52 0-1.04.2-1.43.59L10.3 9.45l-7.72 7.72c-.78.78-.78 2.05 0 2.83L4 21.41c.39.39.9.59 1.41.59.51 0 1.02-.2 1.41-.59l7.78-7.78 2.81-2.81c.8-.78.8-2.07 0-2.86zM5.41 20L4 18.59l7.72-7.72 1.47 1.35L5.41 20z\"/>\n",
              "  </svg>\n",
              "      </button>\n",
              "      \n",
              "  <style>\n",
              "    .colab-df-container {\n",
              "      display:flex;\n",
              "      flex-wrap:wrap;\n",
              "      gap: 12px;\n",
              "    }\n",
              "\n",
              "    .colab-df-convert {\n",
              "      background-color: #E8F0FE;\n",
              "      border: none;\n",
              "      border-radius: 50%;\n",
              "      cursor: pointer;\n",
              "      display: none;\n",
              "      fill: #1967D2;\n",
              "      height: 32px;\n",
              "      padding: 0 0 0 0;\n",
              "      width: 32px;\n",
              "    }\n",
              "\n",
              "    .colab-df-convert:hover {\n",
              "      background-color: #E2EBFA;\n",
              "      box-shadow: 0px 1px 2px rgba(60, 64, 67, 0.3), 0px 1px 3px 1px rgba(60, 64, 67, 0.15);\n",
              "      fill: #174EA6;\n",
              "    }\n",
              "\n",
              "    [theme=dark] .colab-df-convert {\n",
              "      background-color: #3B4455;\n",
              "      fill: #D2E3FC;\n",
              "    }\n",
              "\n",
              "    [theme=dark] .colab-df-convert:hover {\n",
              "      background-color: #434B5C;\n",
              "      box-shadow: 0px 1px 3px 1px rgba(0, 0, 0, 0.15);\n",
              "      filter: drop-shadow(0px 1px 2px rgba(0, 0, 0, 0.3));\n",
              "      fill: #FFFFFF;\n",
              "    }\n",
              "  </style>\n",
              "\n",
              "      <script>\n",
              "        const buttonEl =\n",
              "          document.querySelector('#df-d4454da8-5455-471e-9c0a-323efb51871a button.colab-df-convert');\n",
              "        buttonEl.style.display =\n",
              "          google.colab.kernel.accessAllowed ? 'block' : 'none';\n",
              "\n",
              "        async function convertToInteractive(key) {\n",
              "          const element = document.querySelector('#df-d4454da8-5455-471e-9c0a-323efb51871a');\n",
              "          const dataTable =\n",
              "            await google.colab.kernel.invokeFunction('convertToInteractive',\n",
              "                                                     [key], {});\n",
              "          if (!dataTable) return;\n",
              "\n",
              "          const docLinkHtml = 'Like what you see? Visit the ' +\n",
              "            '<a target=\"_blank\" href=https://colab.research.google.com/notebooks/data_table.ipynb>data table notebook</a>'\n",
              "            + ' to learn more about interactive tables.';\n",
              "          element.innerHTML = '';\n",
              "          dataTable['output_type'] = 'display_data';\n",
              "          await google.colab.output.renderOutput(dataTable, element);\n",
              "          const docLink = document.createElement('div');\n",
              "          docLink.innerHTML = docLinkHtml;\n",
              "          element.appendChild(docLink);\n",
              "        }\n",
              "      </script>\n",
              "    </div>\n",
              "  </div>\n",
              "  "
            ],
            "text/plain": [
              "        OBJECTID        ACRES  SHAPE.AREA  SHAPE.LEN\n",
              "count  25.000000    25.000000   25.000000  25.000000\n",
              "mean   33.000000   724.134400    0.000352   0.109863\n",
              "std     7.359801  1275.490247    0.000617   0.089073\n",
              "min    21.000000    11.400000    0.000005   0.009396\n",
              "25%    27.000000    72.300000    0.000034   0.033885\n",
              "50%    33.000000   524.810000    0.000256   0.087192\n",
              "75%    39.000000   836.470000    0.000399   0.145220\n",
              "max    45.000000  6492.930000    0.003136   0.338800"
            ]
          },
          "metadata": {},
          "execution_count": 14
        }
      ]
    },
    {
      "cell_type": "code",
      "source": [
        "data.info()"
      ],
      "metadata": {
        "colab": {
          "base_uri": "https://localhost:8080/"
        },
        "id": "xxfev2ljFHjd",
        "outputId": "08075d89-8529-44ba-8f96-2404f48d135a"
      },
      "execution_count": 16,
      "outputs": [
        {
          "output_type": "stream",
          "name": "stdout",
          "text": [
            "<class 'pandas.core.frame.DataFrame'>\n",
            "RangeIndex: 25 entries, 0 to 24\n",
            "Data columns (total 6 columns):\n",
            " #   Column       Non-Null Count  Dtype  \n",
            "---  ------       --------------  -----  \n",
            " 0   OBJECTID     25 non-null     int64  \n",
            " 1   UNIT_NAME    25 non-null     object \n",
            " 2   DESCRIPTION  25 non-null     object \n",
            " 3   ACRES        25 non-null     float64\n",
            " 4   SHAPE.AREA   25 non-null     float64\n",
            " 5   SHAPE.LEN    25 non-null     float64\n",
            "dtypes: float64(3), int64(1), object(2)\n",
            "memory usage: 1.3+ KB\n"
          ]
        }
      ]
    },
    {
      "cell_type": "markdown",
      "source": [
        "5)Find the total count of missing values for each feature."
      ],
      "metadata": {
        "id": "iZaOq0CbFczj"
      }
    },
    {
      "cell_type": "code",
      "source": [
        "data.isnull().sum()"
      ],
      "metadata": {
        "colab": {
          "base_uri": "https://localhost:8080/"
        },
        "id": "htuPsPtRFftT",
        "outputId": "7101be93-1b5d-4464-97b8-6b55d6ce1ccc"
      },
      "execution_count": 17,
      "outputs": [
        {
          "output_type": "execute_result",
          "data": {
            "text/plain": [
              "OBJECTID       0\n",
              "UNIT_NAME      0\n",
              "DESCRIPTION    0\n",
              "ACRES          0\n",
              "SHAPE.AREA     0\n",
              "SHAPE.LEN      0\n",
              "dtype: int64"
            ]
          },
          "metadata": {},
          "execution_count": 17
        }
      ]
    },
    {
      "cell_type": "markdown",
      "source": [
        "6)Display all the unique values from the 'DESCRIPTION’ column."
      ],
      "metadata": {
        "id": "gMfylvGNFpcN"
      }
    },
    {
      "cell_type": "code",
      "source": [
        "data.DESCRIPTION.unique()"
      ],
      "metadata": {
        "colab": {
          "base_uri": "https://localhost:8080/"
        },
        "id": "dob-MDdtFt07",
        "outputId": "048d7e15-1660-4583-fd98-253a8d289061"
      },
      "execution_count": 18,
      "outputs": [
        {
          "output_type": "execute_result",
          "data": {
            "text/plain": [
              "array(['State Park', 'Interpretive Center', 'State Recreation Area',\n",
              "       'State Natural Area', 'State Nature Preserve'], dtype=object)"
            ]
          },
          "metadata": {},
          "execution_count": 18
        }
      ]
    },
    {
      "cell_type": "markdown",
      "source": [
        "7)Create a grouped table usin 'DESCRIPTION' as the grouping columns with the means of all the other columns."
      ],
      "metadata": {
        "id": "6a9P9rfPGLg-"
      }
    },
    {
      "cell_type": "code",
      "source": [
        "data.groupby('DESCRIPTION').mean()"
      ],
      "metadata": {
        "colab": {
          "base_uri": "https://localhost:8080/",
          "height": 237
        },
        "id": "YQsnNI9XGND2",
        "outputId": "cdad0553-84c1-414a-ea57-926ab7062fb9"
      },
      "execution_count": 19,
      "outputs": [
        {
          "output_type": "execute_result",
          "data": {
            "text/html": [
              "\n",
              "  <div id=\"df-32aebe8a-4de4-4e63-aafe-b85ec44d6f37\">\n",
              "    <div class=\"colab-df-container\">\n",
              "      <div>\n",
              "<style scoped>\n",
              "    .dataframe tbody tr th:only-of-type {\n",
              "        vertical-align: middle;\n",
              "    }\n",
              "\n",
              "    .dataframe tbody tr th {\n",
              "        vertical-align: top;\n",
              "    }\n",
              "\n",
              "    .dataframe thead th {\n",
              "        text-align: right;\n",
              "    }\n",
              "</style>\n",
              "<table border=\"1\" class=\"dataframe\">\n",
              "  <thead>\n",
              "    <tr style=\"text-align: right;\">\n",
              "      <th></th>\n",
              "      <th>OBJECTID</th>\n",
              "      <th>ACRES</th>\n",
              "      <th>SHAPE.AREA</th>\n",
              "      <th>SHAPE.LEN</th>\n",
              "    </tr>\n",
              "    <tr>\n",
              "      <th>DESCRIPTION</th>\n",
              "      <th></th>\n",
              "      <th></th>\n",
              "      <th></th>\n",
              "      <th></th>\n",
              "    </tr>\n",
              "  </thead>\n",
              "  <tbody>\n",
              "    <tr>\n",
              "      <th>Interpretive Center</th>\n",
              "      <td>29.000000</td>\n",
              "      <td>14.710000</td>\n",
              "      <td>0.000007</td>\n",
              "      <td>0.016774</td>\n",
              "    </tr>\n",
              "    <tr>\n",
              "      <th>State Natural Area</th>\n",
              "      <td>39.000000</td>\n",
              "      <td>219.615000</td>\n",
              "      <td>0.000105</td>\n",
              "      <td>0.077137</td>\n",
              "    </tr>\n",
              "    <tr>\n",
              "      <th>State Nature Preserve</th>\n",
              "      <td>39.500000</td>\n",
              "      <td>84.095000</td>\n",
              "      <td>0.000041</td>\n",
              "      <td>0.037175</td>\n",
              "    </tr>\n",
              "    <tr>\n",
              "      <th>State Park</th>\n",
              "      <td>28.538462</td>\n",
              "      <td>1168.668462</td>\n",
              "      <td>0.000567</td>\n",
              "      <td>0.150326</td>\n",
              "    </tr>\n",
              "    <tr>\n",
              "      <th>State Recreation Area</th>\n",
              "      <td>38.285714</td>\n",
              "      <td>326.934286</td>\n",
              "      <td>0.000162</td>\n",
              "      <td>0.078135</td>\n",
              "    </tr>\n",
              "  </tbody>\n",
              "</table>\n",
              "</div>\n",
              "      <button class=\"colab-df-convert\" onclick=\"convertToInteractive('df-32aebe8a-4de4-4e63-aafe-b85ec44d6f37')\"\n",
              "              title=\"Convert this dataframe to an interactive table.\"\n",
              "              style=\"display:none;\">\n",
              "        \n",
              "  <svg xmlns=\"http://www.w3.org/2000/svg\" height=\"24px\"viewBox=\"0 0 24 24\"\n",
              "       width=\"24px\">\n",
              "    <path d=\"M0 0h24v24H0V0z\" fill=\"none\"/>\n",
              "    <path d=\"M18.56 5.44l.94 2.06.94-2.06 2.06-.94-2.06-.94-.94-2.06-.94 2.06-2.06.94zm-11 1L8.5 8.5l.94-2.06 2.06-.94-2.06-.94L8.5 2.5l-.94 2.06-2.06.94zm10 10l.94 2.06.94-2.06 2.06-.94-2.06-.94-.94-2.06-.94 2.06-2.06.94z\"/><path d=\"M17.41 7.96l-1.37-1.37c-.4-.4-.92-.59-1.43-.59-.52 0-1.04.2-1.43.59L10.3 9.45l-7.72 7.72c-.78.78-.78 2.05 0 2.83L4 21.41c.39.39.9.59 1.41.59.51 0 1.02-.2 1.41-.59l7.78-7.78 2.81-2.81c.8-.78.8-2.07 0-2.86zM5.41 20L4 18.59l7.72-7.72 1.47 1.35L5.41 20z\"/>\n",
              "  </svg>\n",
              "      </button>\n",
              "      \n",
              "  <style>\n",
              "    .colab-df-container {\n",
              "      display:flex;\n",
              "      flex-wrap:wrap;\n",
              "      gap: 12px;\n",
              "    }\n",
              "\n",
              "    .colab-df-convert {\n",
              "      background-color: #E8F0FE;\n",
              "      border: none;\n",
              "      border-radius: 50%;\n",
              "      cursor: pointer;\n",
              "      display: none;\n",
              "      fill: #1967D2;\n",
              "      height: 32px;\n",
              "      padding: 0 0 0 0;\n",
              "      width: 32px;\n",
              "    }\n",
              "\n",
              "    .colab-df-convert:hover {\n",
              "      background-color: #E2EBFA;\n",
              "      box-shadow: 0px 1px 2px rgba(60, 64, 67, 0.3), 0px 1px 3px 1px rgba(60, 64, 67, 0.15);\n",
              "      fill: #174EA6;\n",
              "    }\n",
              "\n",
              "    [theme=dark] .colab-df-convert {\n",
              "      background-color: #3B4455;\n",
              "      fill: #D2E3FC;\n",
              "    }\n",
              "\n",
              "    [theme=dark] .colab-df-convert:hover {\n",
              "      background-color: #434B5C;\n",
              "      box-shadow: 0px 1px 3px 1px rgba(0, 0, 0, 0.15);\n",
              "      filter: drop-shadow(0px 1px 2px rgba(0, 0, 0, 0.3));\n",
              "      fill: #FFFFFF;\n",
              "    }\n",
              "  </style>\n",
              "\n",
              "      <script>\n",
              "        const buttonEl =\n",
              "          document.querySelector('#df-32aebe8a-4de4-4e63-aafe-b85ec44d6f37 button.colab-df-convert');\n",
              "        buttonEl.style.display =\n",
              "          google.colab.kernel.accessAllowed ? 'block' : 'none';\n",
              "\n",
              "        async function convertToInteractive(key) {\n",
              "          const element = document.querySelector('#df-32aebe8a-4de4-4e63-aafe-b85ec44d6f37');\n",
              "          const dataTable =\n",
              "            await google.colab.kernel.invokeFunction('convertToInteractive',\n",
              "                                                     [key], {});\n",
              "          if (!dataTable) return;\n",
              "\n",
              "          const docLinkHtml = 'Like what you see? Visit the ' +\n",
              "            '<a target=\"_blank\" href=https://colab.research.google.com/notebooks/data_table.ipynb>data table notebook</a>'\n",
              "            + ' to learn more about interactive tables.';\n",
              "          element.innerHTML = '';\n",
              "          dataTable['output_type'] = 'display_data';\n",
              "          await google.colab.output.renderOutput(dataTable, element);\n",
              "          const docLink = document.createElement('div');\n",
              "          docLink.innerHTML = docLinkHtml;\n",
              "          element.appendChild(docLink);\n",
              "        }\n",
              "      </script>\n",
              "    </div>\n",
              "  </div>\n",
              "  "
            ],
            "text/plain": [
              "                        OBJECTID        ACRES  SHAPE.AREA  SHAPE.LEN\n",
              "DESCRIPTION                                                         \n",
              "Interpretive Center    29.000000    14.710000    0.000007   0.016774\n",
              "State Natural Area     39.000000   219.615000    0.000105   0.077137\n",
              "State Nature Preserve  39.500000    84.095000    0.000041   0.037175\n",
              "State Park             28.538462  1168.668462    0.000567   0.150326\n",
              "State Recreation Area  38.285714   326.934286    0.000162   0.078135"
            ]
          },
          "metadata": {},
          "execution_count": 19
        }
      ]
    },
    {
      "cell_type": "markdown",
      "source": [
        "8)Generate a random sample of 10 rows from the data."
      ],
      "metadata": {
        "id": "K4j0YDUAG3bK"
      }
    },
    {
      "cell_type": "code",
      "source": [
        "data.sample(10)"
      ],
      "metadata": {
        "colab": {
          "base_uri": "https://localhost:8080/",
          "height": 511
        },
        "id": "ihTzvqx-G4bN",
        "outputId": "64c6f37e-09a5-4a3c-d4c7-b5ec080f513f"
      },
      "execution_count": 20,
      "outputs": [
        {
          "output_type": "execute_result",
          "data": {
            "text/html": [
              "\n",
              "  <div id=\"df-d954d2d1-cbac-48e9-b4b6-20af1c410de4\">\n",
              "    <div class=\"colab-df-container\">\n",
              "      <div>\n",
              "<style scoped>\n",
              "    .dataframe tbody tr th:only-of-type {\n",
              "        vertical-align: middle;\n",
              "    }\n",
              "\n",
              "    .dataframe tbody tr th {\n",
              "        vertical-align: top;\n",
              "    }\n",
              "\n",
              "    .dataframe thead th {\n",
              "        text-align: right;\n",
              "    }\n",
              "</style>\n",
              "<table border=\"1\" class=\"dataframe\">\n",
              "  <thead>\n",
              "    <tr style=\"text-align: right;\">\n",
              "      <th></th>\n",
              "      <th>OBJECTID</th>\n",
              "      <th>UNIT_NAME</th>\n",
              "      <th>DESCRIPTION</th>\n",
              "      <th>ACRES</th>\n",
              "      <th>SHAPE.AREA</th>\n",
              "      <th>SHAPE.LEN</th>\n",
              "    </tr>\n",
              "  </thead>\n",
              "  <tbody>\n",
              "    <tr>\n",
              "      <th>14</th>\n",
              "      <td>33</td>\n",
              "      <td>Turtle River State Park</td>\n",
              "      <td>State Park</td>\n",
              "      <td>775.28</td>\n",
              "      <td>0.000378</td>\n",
              "      <td>0.145220</td>\n",
              "    </tr>\n",
              "    <tr>\n",
              "      <th>15</th>\n",
              "      <td>34</td>\n",
              "      <td>Lake Sakakawea State Park</td>\n",
              "      <td>State Park</td>\n",
              "      <td>739.52</td>\n",
              "      <td>0.000357</td>\n",
              "      <td>0.191806</td>\n",
              "    </tr>\n",
              "    <tr>\n",
              "      <th>4</th>\n",
              "      <td>25</td>\n",
              "      <td>Grahams Island State Park</td>\n",
              "      <td>State Park</td>\n",
              "      <td>959.33</td>\n",
              "      <td>0.000469</td>\n",
              "      <td>0.125546</td>\n",
              "    </tr>\n",
              "    <tr>\n",
              "      <th>22</th>\n",
              "      <td>44</td>\n",
              "      <td>Turtle Mountain State Recreation Area</td>\n",
              "      <td>State Recreation Area</td>\n",
              "      <td>695.04</td>\n",
              "      <td>0.000345</td>\n",
              "      <td>0.086487</td>\n",
              "    </tr>\n",
              "    <tr>\n",
              "      <th>3</th>\n",
              "      <td>24</td>\n",
              "      <td>Fort Ransom State Park</td>\n",
              "      <td>State Park</td>\n",
              "      <td>933.78</td>\n",
              "      <td>0.000444</td>\n",
              "      <td>0.128733</td>\n",
              "    </tr>\n",
              "    <tr>\n",
              "      <th>7</th>\n",
              "      <td>28</td>\n",
              "      <td>Lewis and Clark State Park</td>\n",
              "      <td>State Park</td>\n",
              "      <td>524.81</td>\n",
              "      <td>0.000256</td>\n",
              "      <td>0.130420</td>\n",
              "    </tr>\n",
              "    <tr>\n",
              "      <th>17</th>\n",
              "      <td>38</td>\n",
              "      <td>Fahlgren Park State Recreation Area</td>\n",
              "      <td>State Recreation Area</td>\n",
              "      <td>21.56</td>\n",
              "      <td>0.000010</td>\n",
              "      <td>0.013294</td>\n",
              "    </tr>\n",
              "    <tr>\n",
              "      <th>23</th>\n",
              "      <td>45</td>\n",
              "      <td>Cross Ranch State Park</td>\n",
              "      <td>State Park</td>\n",
              "      <td>569.07</td>\n",
              "      <td>0.000274</td>\n",
              "      <td>0.180257</td>\n",
              "    </tr>\n",
              "    <tr>\n",
              "      <th>9</th>\n",
              "      <td>30</td>\n",
              "      <td>Fort Mandan State Recreation Area</td>\n",
              "      <td>State Recreation Area</td>\n",
              "      <td>11.40</td>\n",
              "      <td>0.000005</td>\n",
              "      <td>0.009396</td>\n",
              "    </tr>\n",
              "    <tr>\n",
              "      <th>5</th>\n",
              "      <td>26</td>\n",
              "      <td>Icelandic State Park</td>\n",
              "      <td>State Park</td>\n",
              "      <td>930.30</td>\n",
              "      <td>0.000461</td>\n",
              "      <td>0.166712</td>\n",
              "    </tr>\n",
              "  </tbody>\n",
              "</table>\n",
              "</div>\n",
              "      <button class=\"colab-df-convert\" onclick=\"convertToInteractive('df-d954d2d1-cbac-48e9-b4b6-20af1c410de4')\"\n",
              "              title=\"Convert this dataframe to an interactive table.\"\n",
              "              style=\"display:none;\">\n",
              "        \n",
              "  <svg xmlns=\"http://www.w3.org/2000/svg\" height=\"24px\"viewBox=\"0 0 24 24\"\n",
              "       width=\"24px\">\n",
              "    <path d=\"M0 0h24v24H0V0z\" fill=\"none\"/>\n",
              "    <path d=\"M18.56 5.44l.94 2.06.94-2.06 2.06-.94-2.06-.94-.94-2.06-.94 2.06-2.06.94zm-11 1L8.5 8.5l.94-2.06 2.06-.94-2.06-.94L8.5 2.5l-.94 2.06-2.06.94zm10 10l.94 2.06.94-2.06 2.06-.94-2.06-.94-.94-2.06-.94 2.06-2.06.94z\"/><path d=\"M17.41 7.96l-1.37-1.37c-.4-.4-.92-.59-1.43-.59-.52 0-1.04.2-1.43.59L10.3 9.45l-7.72 7.72c-.78.78-.78 2.05 0 2.83L4 21.41c.39.39.9.59 1.41.59.51 0 1.02-.2 1.41-.59l7.78-7.78 2.81-2.81c.8-.78.8-2.07 0-2.86zM5.41 20L4 18.59l7.72-7.72 1.47 1.35L5.41 20z\"/>\n",
              "  </svg>\n",
              "      </button>\n",
              "      \n",
              "  <style>\n",
              "    .colab-df-container {\n",
              "      display:flex;\n",
              "      flex-wrap:wrap;\n",
              "      gap: 12px;\n",
              "    }\n",
              "\n",
              "    .colab-df-convert {\n",
              "      background-color: #E8F0FE;\n",
              "      border: none;\n",
              "      border-radius: 50%;\n",
              "      cursor: pointer;\n",
              "      display: none;\n",
              "      fill: #1967D2;\n",
              "      height: 32px;\n",
              "      padding: 0 0 0 0;\n",
              "      width: 32px;\n",
              "    }\n",
              "\n",
              "    .colab-df-convert:hover {\n",
              "      background-color: #E2EBFA;\n",
              "      box-shadow: 0px 1px 2px rgba(60, 64, 67, 0.3), 0px 1px 3px 1px rgba(60, 64, 67, 0.15);\n",
              "      fill: #174EA6;\n",
              "    }\n",
              "\n",
              "    [theme=dark] .colab-df-convert {\n",
              "      background-color: #3B4455;\n",
              "      fill: #D2E3FC;\n",
              "    }\n",
              "\n",
              "    [theme=dark] .colab-df-convert:hover {\n",
              "      background-color: #434B5C;\n",
              "      box-shadow: 0px 1px 3px 1px rgba(0, 0, 0, 0.15);\n",
              "      filter: drop-shadow(0px 1px 2px rgba(0, 0, 0, 0.3));\n",
              "      fill: #FFFFFF;\n",
              "    }\n",
              "  </style>\n",
              "\n",
              "      <script>\n",
              "        const buttonEl =\n",
              "          document.querySelector('#df-d954d2d1-cbac-48e9-b4b6-20af1c410de4 button.colab-df-convert');\n",
              "        buttonEl.style.display =\n",
              "          google.colab.kernel.accessAllowed ? 'block' : 'none';\n",
              "\n",
              "        async function convertToInteractive(key) {\n",
              "          const element = document.querySelector('#df-d954d2d1-cbac-48e9-b4b6-20af1c410de4');\n",
              "          const dataTable =\n",
              "            await google.colab.kernel.invokeFunction('convertToInteractive',\n",
              "                                                     [key], {});\n",
              "          if (!dataTable) return;\n",
              "\n",
              "          const docLinkHtml = 'Like what you see? Visit the ' +\n",
              "            '<a target=\"_blank\" href=https://colab.research.google.com/notebooks/data_table.ipynb>data table notebook</a>'\n",
              "            + ' to learn more about interactive tables.';\n",
              "          element.innerHTML = '';\n",
              "          dataTable['output_type'] = 'display_data';\n",
              "          await google.colab.output.renderOutput(dataTable, element);\n",
              "          const docLink = document.createElement('div');\n",
              "          docLink.innerHTML = docLinkHtml;\n",
              "          element.appendChild(docLink);\n",
              "        }\n",
              "      </script>\n",
              "    </div>\n",
              "  </div>\n",
              "  "
            ],
            "text/plain": [
              "    OBJECTID                              UNIT_NAME  ... SHAPE.AREA  SHAPE.LEN\n",
              "14        33                Turtle River State Park  ...   0.000378   0.145220\n",
              "15        34              Lake Sakakawea State Park  ...   0.000357   0.191806\n",
              "4         25              Grahams Island State Park  ...   0.000469   0.125546\n",
              "22        44  Turtle Mountain State Recreation Area  ...   0.000345   0.086487\n",
              "3         24                 Fort Ransom State Park  ...   0.000444   0.128733\n",
              "7         28             Lewis and Clark State Park  ...   0.000256   0.130420\n",
              "17        38    Fahlgren Park State Recreation Area  ...   0.000010   0.013294\n",
              "23        45                 Cross Ranch State Park  ...   0.000274   0.180257\n",
              "9         30      Fort Mandan State Recreation Area  ...   0.000005   0.009396\n",
              "5         26                   Icelandic State Park  ...   0.000461   0.166712\n",
              "\n",
              "[10 rows x 6 columns]"
            ]
          },
          "metadata": {},
          "execution_count": 20
        }
      ]
    },
    {
      "cell_type": "markdown",
      "source": [
        "9)Add a Feature called 'New_feature' to the new Dataset and Add Random float Values in between 0 and 1 using Numpy."
      ],
      "metadata": {
        "id": "Il9TUXl-HFQ5"
      }
    },
    {
      "cell_type": "code",
      "source": [
        "data['New_feature']=np.random.rand(25,1)\n",
        "data"
      ],
      "metadata": {
        "colab": {
          "base_uri": "https://localhost:8080/",
          "height": 1000
        },
        "id": "YXzQ2P4HHKNC",
        "outputId": "831cdd8d-8356-4ea0-d0eb-193427549145"
      },
      "execution_count": 22,
      "outputs": [
        {
          "output_type": "execute_result",
          "data": {
            "text/html": [
              "\n",
              "  <div id=\"df-7b0c7074-b51e-4a42-ba34-86e2256b5de6\">\n",
              "    <div class=\"colab-df-container\">\n",
              "      <div>\n",
              "<style scoped>\n",
              "    .dataframe tbody tr th:only-of-type {\n",
              "        vertical-align: middle;\n",
              "    }\n",
              "\n",
              "    .dataframe tbody tr th {\n",
              "        vertical-align: top;\n",
              "    }\n",
              "\n",
              "    .dataframe thead th {\n",
              "        text-align: right;\n",
              "    }\n",
              "</style>\n",
              "<table border=\"1\" class=\"dataframe\">\n",
              "  <thead>\n",
              "    <tr style=\"text-align: right;\">\n",
              "      <th></th>\n",
              "      <th>OBJECTID</th>\n",
              "      <th>UNIT_NAME</th>\n",
              "      <th>DESCRIPTION</th>\n",
              "      <th>ACRES</th>\n",
              "      <th>SHAPE.AREA</th>\n",
              "      <th>SHAPE.LEN</th>\n",
              "      <th>New_feature</th>\n",
              "    </tr>\n",
              "  </thead>\n",
              "  <tbody>\n",
              "    <tr>\n",
              "      <th>0</th>\n",
              "      <td>21</td>\n",
              "      <td>Fort Stevenson State Park</td>\n",
              "      <td>State Park</td>\n",
              "      <td>586.48</td>\n",
              "      <td>0.000284</td>\n",
              "      <td>0.135641</td>\n",
              "      <td>0.158063</td>\n",
              "    </tr>\n",
              "    <tr>\n",
              "      <th>1</th>\n",
              "      <td>22</td>\n",
              "      <td>Beaver Lake State Park</td>\n",
              "      <td>State Park</td>\n",
              "      <td>273.16</td>\n",
              "      <td>0.000129</td>\n",
              "      <td>0.080067</td>\n",
              "      <td>0.154299</td>\n",
              "    </tr>\n",
              "    <tr>\n",
              "      <th>2</th>\n",
              "      <td>23</td>\n",
              "      <td>Fort Abraham Lincoln State Park</td>\n",
              "      <td>State Park</td>\n",
              "      <td>836.47</td>\n",
              "      <td>0.000399</td>\n",
              "      <td>0.119868</td>\n",
              "      <td>0.150248</td>\n",
              "    </tr>\n",
              "    <tr>\n",
              "      <th>3</th>\n",
              "      <td>24</td>\n",
              "      <td>Fort Ransom State Park</td>\n",
              "      <td>State Park</td>\n",
              "      <td>933.78</td>\n",
              "      <td>0.000444</td>\n",
              "      <td>0.128733</td>\n",
              "      <td>0.705787</td>\n",
              "    </tr>\n",
              "    <tr>\n",
              "      <th>4</th>\n",
              "      <td>25</td>\n",
              "      <td>Grahams Island State Park</td>\n",
              "      <td>State Park</td>\n",
              "      <td>959.33</td>\n",
              "      <td>0.000469</td>\n",
              "      <td>0.125546</td>\n",
              "      <td>0.039647</td>\n",
              "    </tr>\n",
              "    <tr>\n",
              "      <th>5</th>\n",
              "      <td>26</td>\n",
              "      <td>Icelandic State Park</td>\n",
              "      <td>State Park</td>\n",
              "      <td>930.30</td>\n",
              "      <td>0.000461</td>\n",
              "      <td>0.166712</td>\n",
              "      <td>0.482328</td>\n",
              "    </tr>\n",
              "    <tr>\n",
              "      <th>6</th>\n",
              "      <td>27</td>\n",
              "      <td>Lake Metigoshe State Park</td>\n",
              "      <td>State Park</td>\n",
              "      <td>1508.53</td>\n",
              "      <td>0.000751</td>\n",
              "      <td>0.212196</td>\n",
              "      <td>0.452805</td>\n",
              "    </tr>\n",
              "    <tr>\n",
              "      <th>7</th>\n",
              "      <td>28</td>\n",
              "      <td>Lewis and Clark State Park</td>\n",
              "      <td>State Park</td>\n",
              "      <td>524.81</td>\n",
              "      <td>0.000256</td>\n",
              "      <td>0.130420</td>\n",
              "      <td>0.719578</td>\n",
              "    </tr>\n",
              "    <tr>\n",
              "      <th>8</th>\n",
              "      <td>29</td>\n",
              "      <td>Lewis and Clark Interpretive Center</td>\n",
              "      <td>Interpretive Center</td>\n",
              "      <td>14.71</td>\n",
              "      <td>0.000007</td>\n",
              "      <td>0.016774</td>\n",
              "      <td>0.861274</td>\n",
              "    </tr>\n",
              "    <tr>\n",
              "      <th>9</th>\n",
              "      <td>30</td>\n",
              "      <td>Fort Mandan State Recreation Area</td>\n",
              "      <td>State Recreation Area</td>\n",
              "      <td>11.40</td>\n",
              "      <td>0.000005</td>\n",
              "      <td>0.009396</td>\n",
              "      <td>0.325081</td>\n",
              "    </tr>\n",
              "    <tr>\n",
              "      <th>10</th>\n",
              "      <td>31</td>\n",
              "      <td>Little Missouri State Park</td>\n",
              "      <td>State Park</td>\n",
              "      <td>6492.93</td>\n",
              "      <td>0.003136</td>\n",
              "      <td>0.313756</td>\n",
              "      <td>0.144007</td>\n",
              "    </tr>\n",
              "    <tr>\n",
              "      <th>11</th>\n",
              "      <td>32</td>\n",
              "      <td>Sully Creek State Park</td>\n",
              "      <td>State Park</td>\n",
              "      <td>63.03</td>\n",
              "      <td>0.000030</td>\n",
              "      <td>0.024016</td>\n",
              "      <td>0.428710</td>\n",
              "    </tr>\n",
              "    <tr>\n",
              "      <th>12</th>\n",
              "      <td>35</td>\n",
              "      <td>Butte St. Paul State Recreation Area</td>\n",
              "      <td>State Recreation Area</td>\n",
              "      <td>51.23</td>\n",
              "      <td>0.000025</td>\n",
              "      <td>0.022095</td>\n",
              "      <td>0.453282</td>\n",
              "    </tr>\n",
              "    <tr>\n",
              "      <th>13</th>\n",
              "      <td>36</td>\n",
              "      <td>Crow Flies High State Recreation Area</td>\n",
              "      <td>State Recreation Area</td>\n",
              "      <td>247.11</td>\n",
              "      <td>0.000120</td>\n",
              "      <td>0.050518</td>\n",
              "      <td>0.868532</td>\n",
              "    </tr>\n",
              "    <tr>\n",
              "      <th>14</th>\n",
              "      <td>33</td>\n",
              "      <td>Turtle River State Park</td>\n",
              "      <td>State Park</td>\n",
              "      <td>775.28</td>\n",
              "      <td>0.000378</td>\n",
              "      <td>0.145220</td>\n",
              "      <td>0.449152</td>\n",
              "    </tr>\n",
              "    <tr>\n",
              "      <th>15</th>\n",
              "      <td>34</td>\n",
              "      <td>Lake Sakakawea State Park</td>\n",
              "      <td>State Park</td>\n",
              "      <td>739.52</td>\n",
              "      <td>0.000357</td>\n",
              "      <td>0.191806</td>\n",
              "      <td>0.506228</td>\n",
              "    </tr>\n",
              "    <tr>\n",
              "      <th>16</th>\n",
              "      <td>37</td>\n",
              "      <td>Elkhorn State Natural Area</td>\n",
              "      <td>State Natural Area</td>\n",
              "      <td>264.84</td>\n",
              "      <td>0.000127</td>\n",
              "      <td>0.067082</td>\n",
              "      <td>0.119428</td>\n",
              "    </tr>\n",
              "    <tr>\n",
              "      <th>17</th>\n",
              "      <td>38</td>\n",
              "      <td>Fahlgren Park State Recreation Area</td>\n",
              "      <td>State Recreation Area</td>\n",
              "      <td>21.56</td>\n",
              "      <td>0.000010</td>\n",
              "      <td>0.013294</td>\n",
              "      <td>0.700427</td>\n",
              "    </tr>\n",
              "    <tr>\n",
              "      <th>18</th>\n",
              "      <td>39</td>\n",
              "      <td>Gunlogson State Nature Preserve</td>\n",
              "      <td>State Nature Preserve</td>\n",
              "      <td>95.89</td>\n",
              "      <td>0.000048</td>\n",
              "      <td>0.040465</td>\n",
              "      <td>0.278319</td>\n",
              "    </tr>\n",
              "    <tr>\n",
              "      <th>19</th>\n",
              "      <td>40</td>\n",
              "      <td>Head of the Mountain State Nature Preserve</td>\n",
              "      <td>State Nature Preserve</td>\n",
              "      <td>72.30</td>\n",
              "      <td>0.000034</td>\n",
              "      <td>0.033885</td>\n",
              "      <td>0.966531</td>\n",
              "    </tr>\n",
              "    <tr>\n",
              "      <th>20</th>\n",
              "      <td>41</td>\n",
              "      <td>Missouri River State Natural Area</td>\n",
              "      <td>State Natural Area</td>\n",
              "      <td>174.39</td>\n",
              "      <td>0.000083</td>\n",
              "      <td>0.087192</td>\n",
              "      <td>0.962481</td>\n",
              "    </tr>\n",
              "    <tr>\n",
              "      <th>21</th>\n",
              "      <td>43</td>\n",
              "      <td>Pembina Gorge State Recreation Area</td>\n",
              "      <td>State Recreation Area</td>\n",
              "      <td>1236.98</td>\n",
              "      <td>0.000615</td>\n",
              "      <td>0.338800</td>\n",
              "      <td>0.337077</td>\n",
              "    </tr>\n",
              "    <tr>\n",
              "      <th>22</th>\n",
              "      <td>44</td>\n",
              "      <td>Turtle Mountain State Recreation Area</td>\n",
              "      <td>State Recreation Area</td>\n",
              "      <td>695.04</td>\n",
              "      <td>0.000345</td>\n",
              "      <td>0.086487</td>\n",
              "      <td>0.365574</td>\n",
              "    </tr>\n",
              "    <tr>\n",
              "      <th>23</th>\n",
              "      <td>45</td>\n",
              "      <td>Cross Ranch State Park</td>\n",
              "      <td>State Park</td>\n",
              "      <td>569.07</td>\n",
              "      <td>0.000274</td>\n",
              "      <td>0.180257</td>\n",
              "      <td>0.651129</td>\n",
              "    </tr>\n",
              "    <tr>\n",
              "      <th>24</th>\n",
              "      <td>42</td>\n",
              "      <td>Pelican Point State Recreation Area</td>\n",
              "      <td>State Recreation Area</td>\n",
              "      <td>25.22</td>\n",
              "      <td>0.000013</td>\n",
              "      <td>0.026357</td>\n",
              "      <td>0.985642</td>\n",
              "    </tr>\n",
              "  </tbody>\n",
              "</table>\n",
              "</div>\n",
              "      <button class=\"colab-df-convert\" onclick=\"convertToInteractive('df-7b0c7074-b51e-4a42-ba34-86e2256b5de6')\"\n",
              "              title=\"Convert this dataframe to an interactive table.\"\n",
              "              style=\"display:none;\">\n",
              "        \n",
              "  <svg xmlns=\"http://www.w3.org/2000/svg\" height=\"24px\"viewBox=\"0 0 24 24\"\n",
              "       width=\"24px\">\n",
              "    <path d=\"M0 0h24v24H0V0z\" fill=\"none\"/>\n",
              "    <path d=\"M18.56 5.44l.94 2.06.94-2.06 2.06-.94-2.06-.94-.94-2.06-.94 2.06-2.06.94zm-11 1L8.5 8.5l.94-2.06 2.06-.94-2.06-.94L8.5 2.5l-.94 2.06-2.06.94zm10 10l.94 2.06.94-2.06 2.06-.94-2.06-.94-.94-2.06-.94 2.06-2.06.94z\"/><path d=\"M17.41 7.96l-1.37-1.37c-.4-.4-.92-.59-1.43-.59-.52 0-1.04.2-1.43.59L10.3 9.45l-7.72 7.72c-.78.78-.78 2.05 0 2.83L4 21.41c.39.39.9.59 1.41.59.51 0 1.02-.2 1.41-.59l7.78-7.78 2.81-2.81c.8-.78.8-2.07 0-2.86zM5.41 20L4 18.59l7.72-7.72 1.47 1.35L5.41 20z\"/>\n",
              "  </svg>\n",
              "      </button>\n",
              "      \n",
              "  <style>\n",
              "    .colab-df-container {\n",
              "      display:flex;\n",
              "      flex-wrap:wrap;\n",
              "      gap: 12px;\n",
              "    }\n",
              "\n",
              "    .colab-df-convert {\n",
              "      background-color: #E8F0FE;\n",
              "      border: none;\n",
              "      border-radius: 50%;\n",
              "      cursor: pointer;\n",
              "      display: none;\n",
              "      fill: #1967D2;\n",
              "      height: 32px;\n",
              "      padding: 0 0 0 0;\n",
              "      width: 32px;\n",
              "    }\n",
              "\n",
              "    .colab-df-convert:hover {\n",
              "      background-color: #E2EBFA;\n",
              "      box-shadow: 0px 1px 2px rgba(60, 64, 67, 0.3), 0px 1px 3px 1px rgba(60, 64, 67, 0.15);\n",
              "      fill: #174EA6;\n",
              "    }\n",
              "\n",
              "    [theme=dark] .colab-df-convert {\n",
              "      background-color: #3B4455;\n",
              "      fill: #D2E3FC;\n",
              "    }\n",
              "\n",
              "    [theme=dark] .colab-df-convert:hover {\n",
              "      background-color: #434B5C;\n",
              "      box-shadow: 0px 1px 3px 1px rgba(0, 0, 0, 0.15);\n",
              "      filter: drop-shadow(0px 1px 2px rgba(0, 0, 0, 0.3));\n",
              "      fill: #FFFFFF;\n",
              "    }\n",
              "  </style>\n",
              "\n",
              "      <script>\n",
              "        const buttonEl =\n",
              "          document.querySelector('#df-7b0c7074-b51e-4a42-ba34-86e2256b5de6 button.colab-df-convert');\n",
              "        buttonEl.style.display =\n",
              "          google.colab.kernel.accessAllowed ? 'block' : 'none';\n",
              "\n",
              "        async function convertToInteractive(key) {\n",
              "          const element = document.querySelector('#df-7b0c7074-b51e-4a42-ba34-86e2256b5de6');\n",
              "          const dataTable =\n",
              "            await google.colab.kernel.invokeFunction('convertToInteractive',\n",
              "                                                     [key], {});\n",
              "          if (!dataTable) return;\n",
              "\n",
              "          const docLinkHtml = 'Like what you see? Visit the ' +\n",
              "            '<a target=\"_blank\" href=https://colab.research.google.com/notebooks/data_table.ipynb>data table notebook</a>'\n",
              "            + ' to learn more about interactive tables.';\n",
              "          element.innerHTML = '';\n",
              "          dataTable['output_type'] = 'display_data';\n",
              "          await google.colab.output.renderOutput(dataTable, element);\n",
              "          const docLink = document.createElement('div');\n",
              "          docLink.innerHTML = docLinkHtml;\n",
              "          element.appendChild(docLink);\n",
              "        }\n",
              "      </script>\n",
              "    </div>\n",
              "  </div>\n",
              "  "
            ],
            "text/plain": [
              "    OBJECTID  ... New_feature\n",
              "0         21  ...    0.158063\n",
              "1         22  ...    0.154299\n",
              "2         23  ...    0.150248\n",
              "3         24  ...    0.705787\n",
              "4         25  ...    0.039647\n",
              "5         26  ...    0.482328\n",
              "6         27  ...    0.452805\n",
              "7         28  ...    0.719578\n",
              "8         29  ...    0.861274\n",
              "9         30  ...    0.325081\n",
              "10        31  ...    0.144007\n",
              "11        32  ...    0.428710\n",
              "12        35  ...    0.453282\n",
              "13        36  ...    0.868532\n",
              "14        33  ...    0.449152\n",
              "15        34  ...    0.506228\n",
              "16        37  ...    0.119428\n",
              "17        38  ...    0.700427\n",
              "18        39  ...    0.278319\n",
              "19        40  ...    0.966531\n",
              "20        41  ...    0.962481\n",
              "21        43  ...    0.337077\n",
              "22        44  ...    0.365574\n",
              "23        45  ...    0.651129\n",
              "24        42  ...    0.985642\n",
              "\n",
              "[25 rows x 7 columns]"
            ]
          },
          "metadata": {},
          "execution_count": 22
        }
      ]
    },
    {
      "cell_type": "markdown",
      "source": [
        "10) Replace zero value of column 'OBJECTID' with mean value permanently."
      ],
      "metadata": {
        "id": "KHzQ-rqtIM4N"
      }
    },
    {
      "cell_type": "code",
      "source": [
        "data.replace(data['OBJECTID']==0,data['OBJECTID'].mean(),inplace=True)"
      ],
      "metadata": {
        "id": "yMiWZJPcIPf-"
      },
      "execution_count": 25,
      "outputs": []
    },
    {
      "cell_type": "code",
      "source": [
        "(data['OBJECTID']==0).sum()"
      ],
      "metadata": {
        "colab": {
          "base_uri": "https://localhost:8080/"
        },
        "id": "4seFQ51qJiT0",
        "outputId": "7fdaf122-82c9-4dcc-8310-1f0893abcfdc"
      },
      "execution_count": 27,
      "outputs": [
        {
          "output_type": "execute_result",
          "data": {
            "text/plain": [
              "0"
            ]
          },
          "metadata": {},
          "execution_count": 27
        }
      ]
    },
    {
      "cell_type": "code",
      "source": [
        "data[\"OBJECTID\"].isnull().sum()"
      ],
      "metadata": {
        "colab": {
          "base_uri": "https://localhost:8080/"
        },
        "id": "oK-lKQ2YJ-DA",
        "outputId": "8f341fc2-c07d-4931-9971-17b46c601a62"
      },
      "execution_count": 28,
      "outputs": [
        {
          "output_type": "execute_result",
          "data": {
            "text/plain": [
              "0"
            ]
          },
          "metadata": {},
          "execution_count": 28
        }
      ]
    },
    {
      "cell_type": "code",
      "source": [
        ""
      ],
      "metadata": {
        "id": "tGBVuQrqKCnG"
      },
      "execution_count": null,
      "outputs": []
    }
  ]
}